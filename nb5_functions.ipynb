{
 "cells": [
  {
   "cell_type": "code",
   "execution_count": null,
   "metadata": {},
   "outputs": [],
   "source": [
    "from plywood_gallery import ChapterConfig\n",
    "\n",
    "ChapterConfig.clean_all(skip_warning=True)\n",
    "ChapterConfig.generate_json()\n",
    "ChapterConfig.set_chapter_name(\"Functions\")\n",
    "\n",
    "import matplotlib.pyplot as plt\n",
    "plt.rcParams['figure.dpi'] = 150  \n",
    "\n",
    "cell_header = '-p Header1.png --celltype Header  --style \"width: 220px; height: auto;\"'\n",
    "cell_normal = '-p Normal.png  --celltype Normal --style \"width: 220px; height: auto;\"'"
   ]
  },
  {
   "cell_type": "code",
   "execution_count": null,
   "metadata": {},
   "outputs": [],
   "source": [
    "%%capture_png $cell_header\n",
    "\n",
    "import numpy as np\n",
    "import matplotlib.pyplot as plt\n",
    "import seaborn as sns; sns.set()\n",
    "plt.rcParams['figure.dpi'] = 150  \n",
    "plt.rcParams['lines.linewidth'] = 2\n",
    "import matplotlib.pyplot as plt  # NOT\n",
    "\n",
    "fix, ax = plt.subplots(figsize=(5, 3), facecolor=\"#F7F5F3\")  # NOT\n",
    "text_kwargs = dict(ha=\"center\", va=\"center\", fontsize=70, color=\"#ED6A5A\")  # NOT\n",
    "ax.text(0.5, 0.5, \"Header\", **text_kwargs)  # NOT\n",
    "ax.axis(\"off\");  # NOT"
   ]
  },
  {
   "cell_type": "code",
   "execution_count": null,
   "metadata": {},
   "outputs": [],
   "source": [
    "%%capture_png $cell_normal\n",
    "fig, ax = plt.subplots(figsize=(5, 3))\n",
    "x = np.arange(0, 10, 0.1)\n",
    "ax.set_xlabel(\"x-Axis\")\n",
    "ax.set_ylabel(\"y-Axis\")\n",
    "ax.set_xlim(0, 9)\n",
    "ax.plot(x, -(x**2), \"b\", label=r\"$-x^2$\")\n",
    "ax.plot(x, -0.5 * x**2, \"b--\", label=r\"$-0.5\\,x^2$\")\n",
    "ax.legend(loc=\"lower right\", fontsize=14);"
   ]
  },
  {
   "cell_type": "markdown",
   "metadata": {},
   "source": [
    "## Linear Step Function\n",
    "$$\n",
    "f(x) =  \n",
    "\\begin{cases} 0,           & x < x_0 \n",
    "           \\\\ \\frac{(x)}{x_1-x_0}+ \\frac{x_0}{x_0-x_1}, & x_0 < x < x_1\n",
    "           \\\\ 1,           & x_1 < x \n",
    "\\end{cases}\n",
    "$$"
   ]
  },
  {
   "cell_type": "code",
   "execution_count": null,
   "metadata": {},
   "outputs": [],
   "source": [
    "%%capture_png $cell_normal\n",
    "fig, ax = plt.subplots(figsize=(5, 3))\n",
    "x= np.linspace(0., 10., 100)\n",
    "def linear_step_func(x,x0,x1):\n",
    "    y= np.piecewise(x, [\n",
    "        x < x0, \n",
    "       (x >= x0) & (x <= x1), \n",
    "        x > x1],\n",
    "            [0.,\n",
    "            lambda x: x/(x1-x0)+x0/(x0-x1), \n",
    "             1.]\n",
    "       )\n",
    "    return y\n",
    "ax.plot(x, linear_step_func(x,2, 5), label= r\"Linear Step Function\");\n",
    "ax.legend(loc=\"lower right\", fontsize=14);"
   ]
  },
  {
   "cell_type": "markdown",
   "metadata": {},
   "source": [
    "## Heaviside-Step function\n",
    "$$\n",
    "f(x) =  \n",
    "\\begin{cases} 0,           & x < 0 ,\n",
    "           \\\\ z,           & x=0\n",
    "           \\\\ 1,           & x > 0\n",
    "\\end{cases}\n",
    "$$"
   ]
  },
  {
   "cell_type": "code",
   "execution_count": null,
   "metadata": {},
   "outputs": [],
   "source": [
    "%%capture_png $cell_normal\n",
    "fig, ax = plt.subplots(figsize=(5, 3))\n",
    "x = np.linspace(-10, 10, 1001)\n",
    "y = np.heaviside(x, 0)\n",
    "ax.plot(x, y, label=\"Heaviside\")\n",
    "ax.legend(loc=\"lower right\", fontsize=14);"
   ]
  },
  {
   "cell_type": "code",
   "execution_count": null,
   "metadata": {},
   "outputs": [],
   "source": [
    "%%capture_png $cell_normal\n",
    "fig, ax = plt.subplots(figsize=(5, 3))\n",
    "x = np.linspace(-10, 10, 1001)\n",
    "y = np.absolute(x)\n",
    "ax.plot(x, y, label=\"Absolute\")\n",
    "ax.legend(loc=\"lower right\", fontsize=14);"
   ]
  },
  {
   "cell_type": "code",
   "execution_count": null,
   "metadata": {},
   "outputs": [],
   "source": [
    "%%capture_png $cell_normal\n",
    "fig, ax = plt.subplots(figsize=(5, 3))\n",
    "x = np.linspace(0, 10, 1001)\n",
    "y = np.floor(x)\n",
    "ax.plot(x, y, label=\"Floor\")\n",
    "ax.legend(loc=\"lower right\", fontsize=14);"
   ]
  },
  {
   "cell_type": "code",
   "execution_count": null,
   "metadata": {},
   "outputs": [],
   "source": [
    "%%capture_png $cell_normal\n",
    "fig, ax = plt.subplots(figsize=(5, 3))\n",
    "t = np.linspace(-10, 10, 100)\n",
    "sig = 1 / (1 + np.exp(-t))\n",
    "ax.axhline(c=\"k\")\n",
    "ax.axvline(c=\"k\")\n",
    "ax.axhline(y=0.5,c=\"k\", ls = \":\")\n",
    "ax.axhline(y=1.0,c=\"k\", ls = \":\")\n",
    "#ax.plot(t, sig, \"b-\", label=r\"$\\sigma(t) = \\frac{1}{1 + e^{-t}}$\")\n",
    "ax.plot(t, sig, \"b-\", label=\"Sigmoid\")\n",
    "ax.legend(loc=\"lower right\", fontsize=14);"
   ]
  },
  {
   "cell_type": "code",
   "execution_count": null,
   "metadata": {},
   "outputs": [],
   "source": [
    "%%capture_png $cell_normal\n",
    "from scipy import special\n",
    "fig, ax = plt.subplots(figsize=(5, 3))\n",
    "x = np.linspace(-3, 3)\n",
    "y = special.erf(x)\n",
    "ax.plot(x, y, label=\"Error Function\")\n",
    "ax.legend(loc=\"lower right\", fontsize=14);"
   ]
  },
  {
   "cell_type": "code",
   "execution_count": null,
   "metadata": {},
   "outputs": [],
   "source": [
    "%%capture_png $cell_normal\n",
    "fig, ax = plt.subplots(figsize=(5, 3))\n",
    "\n",
    "def gaussian(x, mu, sig):\n",
    "    return 1/(sig*np.sqrt(2*np.pi))*np.exp( ( -1/2 * ( (x-mu)/sig)**2 ) )\n",
    "\n",
    "x_values = np.linspace(-5, 5, 220)\n",
    "mu=0; sig= 1\n",
    "\n",
    "ax.axhline(c=\"k\")\n",
    "ax.axvline(c=\"k\")\n",
    "ax.axhline(y=gaussian(x_values, mu, sig).max(),c=\"k\", ls = \":\")\n",
    "ax.axhline(y=gaussian(x_values, mu, sig).max()/2,c=\"k\", ls = \":\")\n",
    "\n",
    "label= r\"$f(x) = \\frac{1}{\\sigma \\sqrt{2\\pi} } e^{-\\frac{1}{2}\\left(\\frac{x-\\mu}{\\sigma}\\right)^2}$\"\n",
    "ax.plot(x_values, gaussian(x_values, mu, sig) , label = label)\n",
    "ax.legend(loc=\"lower right\", fontsize=14);"
   ]
  },
  {
   "cell_type": "code",
   "execution_count": null,
   "metadata": {},
   "outputs": [],
   "source": [
    "%%capture_png $cell_normal\n",
    "fig, ax = plt.subplots(figsize=(5, 3))\n",
    "x = np.linspace(-2, 2, 220)\n",
    "y = np.exp(x)\n",
    "ax.plot(x, y, label=r\"$e^x$\")\n",
    "ax.axhline(c=\"k\")\n",
    "ax.axvline(c=\"k\")\n",
    "ax.legend(loc=\"lower right\", fontsize=14);"
   ]
  },
  {
   "cell_type": "code",
   "execution_count": null,
   "metadata": {},
   "outputs": [],
   "source": [
    "%%capture_png $cell_normal\n",
    "fig, ax = plt.subplots(figsize=(5, 3))\n",
    "x = np.arange(0.01, 10, 0.01)\n",
    "y = np.log10(x)\n",
    "ax.plot(x, y, label=r\"$log_{10}$\")\n",
    "ax.axhline(c=\"k\")\n",
    "ax.axvline(c=\"k\")\n",
    "ax.legend(loc=\"lower right\", fontsize=14);"
   ]
  },
  {
   "cell_type": "code",
   "execution_count": null,
   "metadata": {},
   "outputs": [],
   "source": [
    "%%capture_png $cell_normal\n",
    "fig, ax = plt.subplots(figsize=(5, 3))\n",
    "\n",
    "x=np.linspace(0,4*np.pi,1001)\n",
    "labels = [ r'$\\frac{\\pi}{2}$','$\\pi$',r'$\\frac{3\\pi}{2}$', '$2\\pi$', r'$\\frac{5\\pi}{2}$', '$3\\pi$', r'$\\frac{7\\pi}{2}$', '$4\\pi$' ]\n",
    "tick_pos= [ (i+1)*np.pi/2 for i in range(0,len(labels))]\n",
    "[ax.axhline(i, color= \"Gray\", alpha=0.4 ) for i in range(-2,3)]\n",
    "[ax.axvline(i, color= \"Gray\", alpha=0.4 ) for i in tick_pos]\n",
    "ax.axhline(0, color= \"Black\")\n",
    "ax.set_ylim(-3,3)\n",
    "ax.set_xlim(0, 4*np.pi+ 0.3*np.pi)\n",
    "################\n",
    "ax.plot(x, 2*np.sin(x), label= \"Sine\")\n",
    "plt.yticks(fontsize=12, alpha=0.6);\n",
    "plt.xticks(tick_pos, labels,fontsize=12, alpha=0.6 );\n",
    "ax.legend(loc=\"lower right\", fontsize=14);"
   ]
  },
  {
   "cell_type": "code",
   "execution_count": null,
   "metadata": {},
   "outputs": [],
   "source": [
    "%%capture_png $cell_normal\n",
    "fig, ax = plt.subplots(figsize=(5, 3))\n",
    "x = np.arange(-10, 10, 0.01)\n",
    "y = np.sinc(x)\n",
    "ax.plot(x, y, label=\"Sinc\")\n",
    "ax.axhline(c=\"k\")\n",
    "ax.axvline(c=\"k\")\n",
    "ax.legend(loc=\"lower right\", fontsize=14);\n"
   ]
  },
  {
   "cell_type": "code",
   "execution_count": null,
   "metadata": {},
   "outputs": [],
   "source": [
    "%%capture_png $cell_normal\n",
    "fig, ax = plt.subplots(figsize=(5, 3))\n",
    "x = np.arange(-4, 4, 0.01)\n",
    "y = np.sinh(x)\n",
    "ax.plot(x, y, label=\"Sinh\")\n",
    "ax.axhline(c=\"k\")\n",
    "ax.axvline(c=\"k\")\n",
    "ax.legend(loc=\"lower right\", fontsize=14)"
   ]
  },
  {
   "cell_type": "markdown",
   "metadata": {},
   "source": [
    "##  $$ \\psi(x, t) = \\sum \\limits_j C_j \\cdot e^{\\mathrm{i}( - k_j \\cdot x + \\omega_j \\cdot t )}, \\omega_j= \\frac{k_j}{c(k_j)} $$ \n",
    "## $$  \\Rightarrow \\psi(x, t) = \\sum_j C_j \\cdot e^{-i( k_j \\cdot x -  \\frac{k_j}{c(k_j)} \\cdot t )}, \\ $$ "
   ]
  },
  {
   "cell_type": "markdown",
   "metadata": {},
   "source": [
    "$$  \\Rightarrow \\psi(x, t) = \\sum_j C_j \\cdot e^{-i( k_j \\cdot x -  \\frac{k_j}{c(k_j)} \\cdot t )}, \\ $$ "
   ]
  },
  {
   "cell_type": "code",
   "execution_count": null,
   "metadata": {},
   "outputs": [],
   "source": [
    "%%capture_png $cell_normal\n",
    "fig, ax = plt.subplots(figsize=(5, 3))\n",
    "x = np.linspace(-10, 10, 101)  # has zero in it\n",
    "x[x == 0] = np.nan\n",
    "y = 1 / x\n",
    "plt.plot(x, 1 / x, label=r\"$f(x)=\\frac{1}{x}$\")\n",
    "# dividing by zero would encountered in true_divide.\n",
    "ax.legend(loc=\"lower right\", fontsize=14)"
   ]
  },
  {
   "cell_type": "code",
   "execution_count": null,
   "metadata": {},
   "outputs": [],
   "source": [
    "%%capture_png $cell_normal\n",
    "fig, ax = plt.subplots(figsize=(5, 3))\n",
    "x = np.linspace(0, 5 * np.pi, 10000) + np.pi / 2\n",
    "y = np.tan(x)\n",
    "cutoff = 15\n",
    "y[y > cutoff] = np.nan\n",
    "y[y < -cutoff] = np.nan\n",
    "ax.plot(x, y, label=\"Tangence\")\n",
    "ax.legend(loc=\"lower right\", fontsize=14)"
   ]
  },
  {
   "cell_type": "code",
   "execution_count": null,
   "metadata": {},
   "outputs": [],
   "source": [
    "%%capture_png $cell_normal\n",
    "# implementation 1\n",
    "fig, ax = plt.subplots(figsize=(5, 3))\n",
    "\n",
    "x = np.linspace(-100,100,400)\n",
    "def g(x,k_size):\n",
    "    k_all=np.linspace(0,0.5,k_size)\n",
    "    x_m, k_m = np.meshgrid(x,k_all)\n",
    "    matrix= np.exp(-1j*(k_m*x_m - (k_m/(k_m**1.100+1))*50) )\n",
    "    my_sum=np.sum(matrix,axis=0)\n",
    "    return my_sum\n",
    "ax.axhline(c=\"k\")\n",
    "ax.axvline(c=\"k\")\n",
    "#ax.plot(x,np.real(g(x,k_size=100)), label = r\"$\\psi(x, t) = \\sum_j C_j \\cdot e^{-i( k_j \\cdot x -  \\frac{k_j}{c(k_j)} \\cdot t )} \\ $\");\n",
    "ax.plot(x,np.real(g(x,k_size=100)), label = \"Wave Packet\");\n",
    "\n",
    "ax.legend(loc=\"lower right\", fontsize=14);"
   ]
  },
  {
   "cell_type": "code",
   "execution_count": null,
   "metadata": {},
   "outputs": [],
   "source": [
    "# # implementation 1\n",
    "# fig, ax = plt.subplots(figsize=(5, 3))\n",
    "\n",
    "# x = np.linspace(-100,100,400)\n",
    "# def g(x,k_size):\n",
    "#     k_all=np.linspace(0,0.5,k_size)\n",
    "#     x_m, k_m = np.meshgrid(x,k_all)\n",
    "#     matrix= np.exp(-1j*(k_m*x_m - (k_m*50) ))\n",
    "#     my_sum=np.sum(matrix,axis=0)\n",
    "#     return my_sum\n",
    "# ax.axhline(c=\"k\")\n",
    "# ax.axvline(c=\"k\")\n",
    "# ax.plot(x,np.real(g(x,k_size=100)), label = r\"$\\psi(x, t) = \\sum_j C_j \\cdot e^{-i( k_j \\cdot x -  \\frac{k_j}{c(k_j)} \\cdot t )} \\ $\");\n",
    "# ax.legend(loc=\"lower right\", fontsize=14);"
   ]
  }
 ],
 "metadata": {
  "kernelspec": {
   "display_name": "Python 3.9.11 ('napari-env')",
   "language": "python",
   "name": "python3"
  },
  "language_info": {
   "codemirror_mode": {
    "name": "ipython",
    "version": 3
   },
   "file_extension": ".py",
   "mimetype": "text/x-python",
   "name": "python",
   "nbconvert_exporter": "python",
   "pygments_lexer": "ipython3",
   "version": "3.9.11"
  },
  "vscode": {
   "interpreter": {
    "hash": "bb7a7b842930851728e0a2dafc827a6069e16b7869feb3e5989a9987e40ae401"
   }
  }
 },
 "nbformat": 4,
 "nbformat_minor": 4
}
