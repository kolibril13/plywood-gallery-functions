{
 "cells": [
  {
   "cell_type": "markdown",
   "metadata": {},
   "source": [
    "# Second step of setting up your plywood-gallery! 🪵🪓\n",
    "\n",
    "Now we want to set up the  `index.html` document.  \n",
    "\n",
    "An html template is shipped with the plywood gallery as a jinja2 template.   \n",
    "\n",
    "And now it is time to set up your project details.  \n",
    "\n",
    "This needs two steps:\n",
    "1.  go to `html_configuration.yaml` and paste all your project information in the yaml format.  \n",
    "2.  come back to this notebook and run the `generate_html_from_jinja2_and_json` command in the below cell.\n",
    "\n",
    "Note:  \n",
    "\n",
    "From time to time, a new html template will be shipped with the plywood gallery. In this case you want to update, just run the command `generate_html_from_jinja2_and_yaml` again, and you don't have to setup things again.\n",
    "\n",
    "But why do we use yaml and not json?  \n",
    "yaml is the better format for providing html snippets, as one can both use the \" and the ' characters in strings."
   ]
  },
  {
   "cell_type": "code",
   "execution_count": 1,
   "metadata": {},
   "outputs": [
    {
     "name": "stdout",
     "output_type": "stream",
     "text": [
      "Plywood Gallery v0.0.7\n"
     ]
    }
   ],
   "source": [
    "from plywood_gallery import generate_html_from_jinja2_and_yaml"
   ]
  },
  {
   "cell_type": "code",
   "execution_count": 2,
   "metadata": {},
   "outputs": [
    {
     "name": "stdout",
     "output_type": "stream",
     "text": [
      "Successfully read gallery_config5_functions.yaml\n",
      "Successfully created index.html\n",
      "Now you can start crafting your examples with the file gallery.ipynb and see the results in `index.html`!🚪 \n",
      "Just opening index.html in the browser won't load the interactive parts, so better use `from plywood_gallery import open_webpage; open_webpage()` or in VS Code select 'Live Preview: Show Preview' in VSCode to start the page with a server\n"
     ]
    }
   ],
   "source": [
    "generate_html_from_jinja2_and_yaml(yaml_file=\"gallery_config5_functions.yaml\", index_html_file=\"index.html\")"
   ]
  },
  {
   "cell_type": "code",
   "execution_count": null,
   "metadata": {},
   "outputs": [],
   "source": []
  },
  {
   "cell_type": "code",
   "execution_count": null,
   "metadata": {},
   "outputs": [],
   "source": []
  }
 ],
 "metadata": {
  "kernelspec": {
   "display_name": "Python 3 (ipykernel)",
   "language": "python",
   "name": "python3"
  },
  "language_info": {
   "codemirror_mode": {
    "name": "ipython",
    "version": 3
   },
   "file_extension": ".py",
   "mimetype": "text/x-python",
   "name": "python",
   "nbconvert_exporter": "python",
   "pygments_lexer": "ipython3",
   "version": "3.9.15"
  },
  "vscode": {
   "interpreter": {
    "hash": "0cd578a39a116c7382bffb8bd7f82b4271f8b1c564c3138079ac4ac67fc3fcc2"
   }
  }
 },
 "nbformat": 4,
 "nbformat_minor": 4
}
