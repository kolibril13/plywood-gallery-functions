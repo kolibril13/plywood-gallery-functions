{
 "cells": [
  {
   "cell_type": "code",
   "execution_count": null,
   "metadata": {},
   "outputs": [],
   "source": [
    "from plywood_gallery import generate_html\n",
    "generate_html(yaml_file=\"gallery_config.yaml\", html_file=\"index.html\")"
   ]
  }
 ],
 "metadata": {
  "kernelspec": {
   "display_name": "Python 3 (ipykernel)",
   "language": "python",
   "name": "python3"
  },
  "language_info": {
   "codemirror_mode": {
    "name": "ipython",
    "version": 3
   },
   "file_extension": ".py",
   "mimetype": "text/x-python",
   "name": "python",
   "nbconvert_exporter": "python",
   "pygments_lexer": "ipython3",
   "version": "3.8.5"
  },
  "vscode": {
   "interpreter": {
    "hash": "0cd578a39a116c7382bffb8bd7f82b4271f8b1c564c3138079ac4ac67fc3fcc2"
   }
  }
 },
 "nbformat": 4,
 "nbformat_minor": 4
}
